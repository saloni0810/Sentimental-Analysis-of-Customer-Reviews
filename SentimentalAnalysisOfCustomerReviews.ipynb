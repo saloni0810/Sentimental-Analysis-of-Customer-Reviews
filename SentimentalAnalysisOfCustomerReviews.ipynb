{
  "nbformat": 4,
  "nbformat_minor": 0,
  "metadata": {
    "colab": {
      "provenance": []
    },
    "kernelspec": {
      "name": "python3",
      "display_name": "Python 3"
    },
    "language_info": {
      "name": "python"
    }
  },
  "cells": [
    {
      "cell_type": "markdown",
      "source": [
        "#Sentiment Analysis of Customer Reviews"
      ],
      "metadata": {
        "id": "oJXsbitjuAsI"
      }
    },
    {
      "cell_type": "markdown",
      "source": [
        "## Project Overview"
      ],
      "metadata": {
        "id": "51Zt-K6QuWSx"
      }
    },
    {
      "cell_type": "markdown",
      "source": [
        "E-commerce platforms need to understand customer feedback, which often comes in the form of product reviews. This feedback, if analyzed properly, can help businesses identify issues, recognize trends, and improve products or services. Given that we are working with customer reviews, the task is to determine the overall sentiment of these reviews (positive, negative, neutral)."
      ],
      "metadata": {
        "id": "67S5Us2zugyB"
      }
    },
    {
      "cell_type": "markdown",
      "source": [
        "### Task"
      ],
      "metadata": {
        "id": "VUk394LSuyii"
      }
    },
    {
      "cell_type": "markdown",
      "source": [
        "Perform sentiment analysis on product reviews, classify them into three categories (positive, negative, and neutral), and extract actionable insights to guide product improvement."
      ],
      "metadata": {
        "id": "WuhCTWF-u7vB"
      }
    },
    {
      "cell_type": "markdown",
      "source": [
        "### Tools & Techniques"
      ],
      "metadata": {
        "id": "KiPZ4bT4u_iQ"
      }
    },
    {
      "cell_type": "markdown",
      "source": [
        "**Python**: For data preprocessing, sentiment analysis, and visualization.\n",
        "\n",
        "**Excel**: For further analysis and visual representation."
      ],
      "metadata": {
        "id": "fVeptTh4vTrw"
      }
    },
    {
      "cell_type": "markdown",
      "source": [
        "## Exploratory Data Analysis"
      ],
      "metadata": {
        "id": "WLuW_Kqeve14"
      }
    },
    {
      "cell_type": "markdown",
      "source": [
        "### Data Collection, Data Cleaning and Preprocessing"
      ],
      "metadata": {
        "id": "Mqt-RsWhwNux"
      }
    },
    {
      "cell_type": "code",
      "source": [
        "!pip install nltk pandas\n",
        "\n",
        "import nltk\n",
        "import pandas as pd\n",
        "import matplotlib.pyplot as plt\n",
        "nltk.download('vader_lexicon')\n",
        "from nltk.sentiment.vader import SentimentIntensityAnalyzer"
      ],
      "metadata": {
        "colab": {
          "base_uri": "https://localhost:8080/"
        },
        "id": "MmExOa4CwXNo",
        "outputId": "a3fa5cdb-c122-4482-8b54-0e3c902383ca"
      },
      "execution_count": null,
      "outputs": [
        {
          "output_type": "stream",
          "name": "stdout",
          "text": [
            "Requirement already satisfied: nltk in /usr/local/lib/python3.10/dist-packages (3.9.1)\n",
            "Requirement already satisfied: pandas in /usr/local/lib/python3.10/dist-packages (2.2.2)\n",
            "Requirement already satisfied: click in /usr/local/lib/python3.10/dist-packages (from nltk) (8.1.7)\n",
            "Requirement already satisfied: joblib in /usr/local/lib/python3.10/dist-packages (from nltk) (1.4.2)\n",
            "Requirement already satisfied: regex>=2021.8.3 in /usr/local/lib/python3.10/dist-packages (from nltk) (2024.11.6)\n",
            "Requirement already satisfied: tqdm in /usr/local/lib/python3.10/dist-packages (from nltk) (4.67.1)\n",
            "Requirement already satisfied: numpy>=1.22.4 in /usr/local/lib/python3.10/dist-packages (from pandas) (1.26.4)\n",
            "Requirement already satisfied: python-dateutil>=2.8.2 in /usr/local/lib/python3.10/dist-packages (from pandas) (2.8.2)\n",
            "Requirement already satisfied: pytz>=2020.1 in /usr/local/lib/python3.10/dist-packages (from pandas) (2024.2)\n",
            "Requirement already satisfied: tzdata>=2022.7 in /usr/local/lib/python3.10/dist-packages (from pandas) (2024.2)\n",
            "Requirement already satisfied: six>=1.5 in /usr/local/lib/python3.10/dist-packages (from python-dateutil>=2.8.2->pandas) (1.17.0)\n"
          ]
        },
        {
          "output_type": "stream",
          "name": "stderr",
          "text": [
            "[nltk_data] Downloading package vader_lexicon to /root/nltk_data...\n",
            "[nltk_data]   Package vader_lexicon is already up-to-date!\n"
          ]
        }
      ]
    },
    {
      "cell_type": "code",
      "source": [
        "df = pd.read_csv('/content/flipkart_product.csv', encoding='unicode_escape')\n",
        "df.shape"
      ],
      "metadata": {
        "colab": {
          "base_uri": "https://localhost:8080/"
        },
        "id": "gkvaknotwraB",
        "outputId": "7d6eb65b-d08a-45fd-cf9e-dad998e43fd6"
      },
      "execution_count": null,
      "outputs": [
        {
          "output_type": "execute_result",
          "data": {
            "text/plain": [
              "(189874, 5)"
            ]
          },
          "metadata": {},
          "execution_count": 46
        }
      ]
    },
    {
      "cell_type": "code",
      "source": [
        "# Display the first few rows of the DataFrame to understand its structure\n",
        "print(df.head())\n",
        "\n",
        "# Check for missing values\n",
        "print(df.isnull().sum())\n",
        "\n",
        "# Remove rows with missing values (if any)\n",
        "df.dropna(inplace=True)\n",
        "\n",
        "# Check for duplicate rows and remove them\n",
        "df.drop_duplicates(inplace=True)\n",
        "\n",
        "# Data Cleaning for special symbols\n",
        "def clean_text(txt):\n",
        "    # Remove special characters and numbers\n",
        "    txt = re.sub(r'[^a-zA-Z\\s]', '', txt, re.I|re.A)\n",
        "    # Remove extra whitespace\n",
        "    txt = re.sub(' +', ' ', txt)\n",
        "    return txt\n",
        "\n",
        "df['Review'] = df['Review'].apply(clean_text)\n",
        "\n",
        "# Display the updated DataFrame information\n",
        "print(df.info())\n",
        "print(df.describe()) # For numerical columns summary"
      ],
      "metadata": {
        "colab": {
          "base_uri": "https://localhost:8080/"
        },
        "id": "k0NxSpKI2keR",
        "outputId": "a86cf8ec-358c-4782-f792-972bdf6d9462"
      },
      "execution_count": null,
      "outputs": [
        {
          "output_type": "stream",
          "name": "stdout",
          "text": [
            "                                         ProductName     Price Rate  \\\n",
            "0  Candes 12 L Room/Personal Air Cooler?ÿ?ÿ(White...  ??3,999    5   \n",
            "1  Candes 12 L Room/Personal Air Cooler?ÿ?ÿ(White...  ??3,999    5   \n",
            "2  Candes 12 L Room/Personal Air Cooler?ÿ?ÿ(White...  ??3,999    3   \n",
            "3  Candes 12 L Room/Personal Air Cooler?ÿ?ÿ(White...  ??3,999    1   \n",
            "4  Candes 12 L Room/Personal Air Cooler?ÿ?ÿ(White...  ??3,999    3   \n",
            "\n",
            "            Review                                            Summary  \n",
            "0           Super!  Great cooler.. excellent air flow and for this...  \n",
            "1          Awesome             Best budget 2 fit cooler. Nice cooling  \n",
            "2             Fair  The quality is good but the power of air is de...  \n",
            "3  Useless product                 Very bad product it's a only a fan  \n",
            "4             Fair                                      Ok ok product  \n",
            "ProductName     0\n",
            "Price           1\n",
            "Rate            1\n",
            "Review          4\n",
            "Summary        14\n",
            "dtype: int64\n",
            "<class 'pandas.core.frame.DataFrame'>\n",
            "Index: 165004 entries, 0 to 189869\n",
            "Data columns (total 5 columns):\n",
            " #   Column       Non-Null Count   Dtype \n",
            "---  ------       --------------   ----- \n",
            " 0   ProductName  165004 non-null  object\n",
            " 1   Price        165004 non-null  object\n",
            " 2   Rate         165004 non-null  object\n",
            " 3   Review       165004 non-null  object\n",
            " 4   Summary      165004 non-null  object\n",
            "dtypes: object(5)\n",
            "memory usage: 7.6+ MB\n",
            "None\n",
            "                                              ProductName     Price    Rate  \\\n",
            "count                                              165004    165004  165004   \n",
            "unique                                                811       561       9   \n",
            "top     cello Pack of 18 Opalware Cello Dazzle Lush Fi...  â¹1,299       5   \n",
            "freq                                                 6953      8066   93055   \n",
            "\n",
            "        Review Summary  \n",
            "count   165004  165004  \n",
            "unique    1222   98340  \n",
            "top        Nan    Good  \n",
            "freq     15148    5816  \n"
          ]
        }
      ]
    },
    {
      "cell_type": "code",
      "source": [
        "df.shape"
      ],
      "metadata": {
        "colab": {
          "base_uri": "https://localhost:8080/"
        },
        "id": "UMqVVtVA0h55",
        "outputId": "d5b2d987-b947-44e5-a440-2474b496ed37"
      },
      "execution_count": null,
      "outputs": [
        {
          "output_type": "execute_result",
          "data": {
            "text/plain": [
              "(165004, 5)"
            ]
          },
          "metadata": {},
          "execution_count": 48
        }
      ]
    },
    {
      "cell_type": "code",
      "source": [
        "df"
      ],
      "metadata": {
        "colab": {
          "base_uri": "https://localhost:8080/",
          "height": 423
        },
        "id": "dx0TjbGUIwmZ",
        "outputId": "90aa62e8-c1dc-4532-891a-d4cf4f811d9d"
      },
      "execution_count": null,
      "outputs": [
        {
          "output_type": "execute_result",
          "data": {
            "text/plain": [
              "                                              ProductName     Price Rate  \\\n",
              "0       Candes 12 L Room/Personal Air Cooler?ÿ?ÿ(White...  ??3,999    5   \n",
              "1       Candes 12 L Room/Personal Air Cooler?ÿ?ÿ(White...  ??3,999    5   \n",
              "2       Candes 12 L Room/Personal Air Cooler?ÿ?ÿ(White...  ??3,999    3   \n",
              "3       Candes 12 L Room/Personal Air Cooler?ÿ?ÿ(White...  ??3,999    1   \n",
              "4       Candes 12 L Room/Personal Air Cooler?ÿ?ÿ(White...  ??3,999    3   \n",
              "...                                                   ...       ...  ...   \n",
              "189862  NIVEA Soft Light Moisturizer for Face, Hand & ...    â¹142    4   \n",
              "189865  NIVEA Soft Light Moisturizer for Face, Hand & ...    â¹142    5   \n",
              "189866  NIVEA Soft Light Moisturizer for Face, Hand & ...    â¹142    5   \n",
              "189867  NIVEA Soft Light Moisturizer for Face, Hand & ...    â¹142    5   \n",
              "189869  NIVEA Soft Light Moisturizer for Face, Hand & ...    â¹142    5   \n",
              "\n",
              "                    Review                                            Summary  \n",
              "0                    Super  Great cooler.. excellent air flow and for this...  \n",
              "1                  Awesome             Best budget 2 fit cooler. Nice cooling  \n",
              "2                     Fair  The quality is good but the power of air is de...  \n",
              "3          Useless product                 Very bad product it's a only a fan  \n",
              "4                     Fair                                      Ok ok product  \n",
              "...                    ...                                                ...  \n",
              "189862         Pretty good                                    Best for winter  \n",
              "189865   Worth every penny                                    Very nice cream  \n",
              "189866       Great product  It's a nice product...thanks very much to Flip...  \n",
              "189867  Best in the market                                      Thanks â¤ï¸  \n",
              "189869            Terrific                                             Thanks  \n",
              "\n",
              "[165004 rows x 5 columns]"
            ],
            "text/html": [
              "\n",
              "  <div id=\"df-a7f98745-f0db-4385-9895-9aaa67e1df03\" class=\"colab-df-container\">\n",
              "    <div>\n",
              "<style scoped>\n",
              "    .dataframe tbody tr th:only-of-type {\n",
              "        vertical-align: middle;\n",
              "    }\n",
              "\n",
              "    .dataframe tbody tr th {\n",
              "        vertical-align: top;\n",
              "    }\n",
              "\n",
              "    .dataframe thead th {\n",
              "        text-align: right;\n",
              "    }\n",
              "</style>\n",
              "<table border=\"1\" class=\"dataframe\">\n",
              "  <thead>\n",
              "    <tr style=\"text-align: right;\">\n",
              "      <th></th>\n",
              "      <th>ProductName</th>\n",
              "      <th>Price</th>\n",
              "      <th>Rate</th>\n",
              "      <th>Review</th>\n",
              "      <th>Summary</th>\n",
              "    </tr>\n",
              "  </thead>\n",
              "  <tbody>\n",
              "    <tr>\n",
              "      <th>0</th>\n",
              "      <td>Candes 12 L Room/Personal Air Cooler?ÿ?ÿ(White...</td>\n",
              "      <td>??3,999</td>\n",
              "      <td>5</td>\n",
              "      <td>Super</td>\n",
              "      <td>Great cooler.. excellent air flow and for this...</td>\n",
              "    </tr>\n",
              "    <tr>\n",
              "      <th>1</th>\n",
              "      <td>Candes 12 L Room/Personal Air Cooler?ÿ?ÿ(White...</td>\n",
              "      <td>??3,999</td>\n",
              "      <td>5</td>\n",
              "      <td>Awesome</td>\n",
              "      <td>Best budget 2 fit cooler. Nice cooling</td>\n",
              "    </tr>\n",
              "    <tr>\n",
              "      <th>2</th>\n",
              "      <td>Candes 12 L Room/Personal Air Cooler?ÿ?ÿ(White...</td>\n",
              "      <td>??3,999</td>\n",
              "      <td>3</td>\n",
              "      <td>Fair</td>\n",
              "      <td>The quality is good but the power of air is de...</td>\n",
              "    </tr>\n",
              "    <tr>\n",
              "      <th>3</th>\n",
              "      <td>Candes 12 L Room/Personal Air Cooler?ÿ?ÿ(White...</td>\n",
              "      <td>??3,999</td>\n",
              "      <td>1</td>\n",
              "      <td>Useless product</td>\n",
              "      <td>Very bad product it's a only a fan</td>\n",
              "    </tr>\n",
              "    <tr>\n",
              "      <th>4</th>\n",
              "      <td>Candes 12 L Room/Personal Air Cooler?ÿ?ÿ(White...</td>\n",
              "      <td>??3,999</td>\n",
              "      <td>3</td>\n",
              "      <td>Fair</td>\n",
              "      <td>Ok ok product</td>\n",
              "    </tr>\n",
              "    <tr>\n",
              "      <th>...</th>\n",
              "      <td>...</td>\n",
              "      <td>...</td>\n",
              "      <td>...</td>\n",
              "      <td>...</td>\n",
              "      <td>...</td>\n",
              "    </tr>\n",
              "    <tr>\n",
              "      <th>189862</th>\n",
              "      <td>NIVEA Soft Light Moisturizer for Face, Hand &amp; ...</td>\n",
              "      <td>â¹142</td>\n",
              "      <td>4</td>\n",
              "      <td>Pretty good</td>\n",
              "      <td>Best for winter</td>\n",
              "    </tr>\n",
              "    <tr>\n",
              "      <th>189865</th>\n",
              "      <td>NIVEA Soft Light Moisturizer for Face, Hand &amp; ...</td>\n",
              "      <td>â¹142</td>\n",
              "      <td>5</td>\n",
              "      <td>Worth every penny</td>\n",
              "      <td>Very nice cream</td>\n",
              "    </tr>\n",
              "    <tr>\n",
              "      <th>189866</th>\n",
              "      <td>NIVEA Soft Light Moisturizer for Face, Hand &amp; ...</td>\n",
              "      <td>â¹142</td>\n",
              "      <td>5</td>\n",
              "      <td>Great product</td>\n",
              "      <td>It's a nice product...thanks very much to Flip...</td>\n",
              "    </tr>\n",
              "    <tr>\n",
              "      <th>189867</th>\n",
              "      <td>NIVEA Soft Light Moisturizer for Face, Hand &amp; ...</td>\n",
              "      <td>â¹142</td>\n",
              "      <td>5</td>\n",
              "      <td>Best in the market</td>\n",
              "      <td>Thanks â¤ï¸</td>\n",
              "    </tr>\n",
              "    <tr>\n",
              "      <th>189869</th>\n",
              "      <td>NIVEA Soft Light Moisturizer for Face, Hand &amp; ...</td>\n",
              "      <td>â¹142</td>\n",
              "      <td>5</td>\n",
              "      <td>Terrific</td>\n",
              "      <td>Thanks</td>\n",
              "    </tr>\n",
              "  </tbody>\n",
              "</table>\n",
              "<p>165004 rows × 5 columns</p>\n",
              "</div>\n",
              "    <div class=\"colab-df-buttons\">\n",
              "\n",
              "  <div class=\"colab-df-container\">\n",
              "    <button class=\"colab-df-convert\" onclick=\"convertToInteractive('df-a7f98745-f0db-4385-9895-9aaa67e1df03')\"\n",
              "            title=\"Convert this dataframe to an interactive table.\"\n",
              "            style=\"display:none;\">\n",
              "\n",
              "  <svg xmlns=\"http://www.w3.org/2000/svg\" height=\"24px\" viewBox=\"0 -960 960 960\">\n",
              "    <path d=\"M120-120v-720h720v720H120Zm60-500h600v-160H180v160Zm220 220h160v-160H400v160Zm0 220h160v-160H400v160ZM180-400h160v-160H180v160Zm440 0h160v-160H620v160ZM180-180h160v-160H180v160Zm440 0h160v-160H620v160Z\"/>\n",
              "  </svg>\n",
              "    </button>\n",
              "\n",
              "  <style>\n",
              "    .colab-df-container {\n",
              "      display:flex;\n",
              "      gap: 12px;\n",
              "    }\n",
              "\n",
              "    .colab-df-convert {\n",
              "      background-color: #E8F0FE;\n",
              "      border: none;\n",
              "      border-radius: 50%;\n",
              "      cursor: pointer;\n",
              "      display: none;\n",
              "      fill: #1967D2;\n",
              "      height: 32px;\n",
              "      padding: 0 0 0 0;\n",
              "      width: 32px;\n",
              "    }\n",
              "\n",
              "    .colab-df-convert:hover {\n",
              "      background-color: #E2EBFA;\n",
              "      box-shadow: 0px 1px 2px rgba(60, 64, 67, 0.3), 0px 1px 3px 1px rgba(60, 64, 67, 0.15);\n",
              "      fill: #174EA6;\n",
              "    }\n",
              "\n",
              "    .colab-df-buttons div {\n",
              "      margin-bottom: 4px;\n",
              "    }\n",
              "\n",
              "    [theme=dark] .colab-df-convert {\n",
              "      background-color: #3B4455;\n",
              "      fill: #D2E3FC;\n",
              "    }\n",
              "\n",
              "    [theme=dark] .colab-df-convert:hover {\n",
              "      background-color: #434B5C;\n",
              "      box-shadow: 0px 1px 3px 1px rgba(0, 0, 0, 0.15);\n",
              "      filter: drop-shadow(0px 1px 2px rgba(0, 0, 0, 0.3));\n",
              "      fill: #FFFFFF;\n",
              "    }\n",
              "  </style>\n",
              "\n",
              "    <script>\n",
              "      const buttonEl =\n",
              "        document.querySelector('#df-a7f98745-f0db-4385-9895-9aaa67e1df03 button.colab-df-convert');\n",
              "      buttonEl.style.display =\n",
              "        google.colab.kernel.accessAllowed ? 'block' : 'none';\n",
              "\n",
              "      async function convertToInteractive(key) {\n",
              "        const element = document.querySelector('#df-a7f98745-f0db-4385-9895-9aaa67e1df03');\n",
              "        const dataTable =\n",
              "          await google.colab.kernel.invokeFunction('convertToInteractive',\n",
              "                                                    [key], {});\n",
              "        if (!dataTable) return;\n",
              "\n",
              "        const docLinkHtml = 'Like what you see? Visit the ' +\n",
              "          '<a target=\"_blank\" href=https://colab.research.google.com/notebooks/data_table.ipynb>data table notebook</a>'\n",
              "          + ' to learn more about interactive tables.';\n",
              "        element.innerHTML = '';\n",
              "        dataTable['output_type'] = 'display_data';\n",
              "        await google.colab.output.renderOutput(dataTable, element);\n",
              "        const docLink = document.createElement('div');\n",
              "        docLink.innerHTML = docLinkHtml;\n",
              "        element.appendChild(docLink);\n",
              "      }\n",
              "    </script>\n",
              "  </div>\n",
              "\n",
              "\n",
              "<div id=\"df-b1cbc4f1-9c00-4671-be9c-2736acdb4685\">\n",
              "  <button class=\"colab-df-quickchart\" onclick=\"quickchart('df-b1cbc4f1-9c00-4671-be9c-2736acdb4685')\"\n",
              "            title=\"Suggest charts\"\n",
              "            style=\"display:none;\">\n",
              "\n",
              "<svg xmlns=\"http://www.w3.org/2000/svg\" height=\"24px\"viewBox=\"0 0 24 24\"\n",
              "     width=\"24px\">\n",
              "    <g>\n",
              "        <path d=\"M19 3H5c-1.1 0-2 .9-2 2v14c0 1.1.9 2 2 2h14c1.1 0 2-.9 2-2V5c0-1.1-.9-2-2-2zM9 17H7v-7h2v7zm4 0h-2V7h2v10zm4 0h-2v-4h2v4z\"/>\n",
              "    </g>\n",
              "</svg>\n",
              "  </button>\n",
              "\n",
              "<style>\n",
              "  .colab-df-quickchart {\n",
              "      --bg-color: #E8F0FE;\n",
              "      --fill-color: #1967D2;\n",
              "      --hover-bg-color: #E2EBFA;\n",
              "      --hover-fill-color: #174EA6;\n",
              "      --disabled-fill-color: #AAA;\n",
              "      --disabled-bg-color: #DDD;\n",
              "  }\n",
              "\n",
              "  [theme=dark] .colab-df-quickchart {\n",
              "      --bg-color: #3B4455;\n",
              "      --fill-color: #D2E3FC;\n",
              "      --hover-bg-color: #434B5C;\n",
              "      --hover-fill-color: #FFFFFF;\n",
              "      --disabled-bg-color: #3B4455;\n",
              "      --disabled-fill-color: #666;\n",
              "  }\n",
              "\n",
              "  .colab-df-quickchart {\n",
              "    background-color: var(--bg-color);\n",
              "    border: none;\n",
              "    border-radius: 50%;\n",
              "    cursor: pointer;\n",
              "    display: none;\n",
              "    fill: var(--fill-color);\n",
              "    height: 32px;\n",
              "    padding: 0;\n",
              "    width: 32px;\n",
              "  }\n",
              "\n",
              "  .colab-df-quickchart:hover {\n",
              "    background-color: var(--hover-bg-color);\n",
              "    box-shadow: 0 1px 2px rgba(60, 64, 67, 0.3), 0 1px 3px 1px rgba(60, 64, 67, 0.15);\n",
              "    fill: var(--button-hover-fill-color);\n",
              "  }\n",
              "\n",
              "  .colab-df-quickchart-complete:disabled,\n",
              "  .colab-df-quickchart-complete:disabled:hover {\n",
              "    background-color: var(--disabled-bg-color);\n",
              "    fill: var(--disabled-fill-color);\n",
              "    box-shadow: none;\n",
              "  }\n",
              "\n",
              "  .colab-df-spinner {\n",
              "    border: 2px solid var(--fill-color);\n",
              "    border-color: transparent;\n",
              "    border-bottom-color: var(--fill-color);\n",
              "    animation:\n",
              "      spin 1s steps(1) infinite;\n",
              "  }\n",
              "\n",
              "  @keyframes spin {\n",
              "    0% {\n",
              "      border-color: transparent;\n",
              "      border-bottom-color: var(--fill-color);\n",
              "      border-left-color: var(--fill-color);\n",
              "    }\n",
              "    20% {\n",
              "      border-color: transparent;\n",
              "      border-left-color: var(--fill-color);\n",
              "      border-top-color: var(--fill-color);\n",
              "    }\n",
              "    30% {\n",
              "      border-color: transparent;\n",
              "      border-left-color: var(--fill-color);\n",
              "      border-top-color: var(--fill-color);\n",
              "      border-right-color: var(--fill-color);\n",
              "    }\n",
              "    40% {\n",
              "      border-color: transparent;\n",
              "      border-right-color: var(--fill-color);\n",
              "      border-top-color: var(--fill-color);\n",
              "    }\n",
              "    60% {\n",
              "      border-color: transparent;\n",
              "      border-right-color: var(--fill-color);\n",
              "    }\n",
              "    80% {\n",
              "      border-color: transparent;\n",
              "      border-right-color: var(--fill-color);\n",
              "      border-bottom-color: var(--fill-color);\n",
              "    }\n",
              "    90% {\n",
              "      border-color: transparent;\n",
              "      border-bottom-color: var(--fill-color);\n",
              "    }\n",
              "  }\n",
              "</style>\n",
              "\n",
              "  <script>\n",
              "    async function quickchart(key) {\n",
              "      const quickchartButtonEl =\n",
              "        document.querySelector('#' + key + ' button');\n",
              "      quickchartButtonEl.disabled = true;  // To prevent multiple clicks.\n",
              "      quickchartButtonEl.classList.add('colab-df-spinner');\n",
              "      try {\n",
              "        const charts = await google.colab.kernel.invokeFunction(\n",
              "            'suggestCharts', [key], {});\n",
              "      } catch (error) {\n",
              "        console.error('Error during call to suggestCharts:', error);\n",
              "      }\n",
              "      quickchartButtonEl.classList.remove('colab-df-spinner');\n",
              "      quickchartButtonEl.classList.add('colab-df-quickchart-complete');\n",
              "    }\n",
              "    (() => {\n",
              "      let quickchartButtonEl =\n",
              "        document.querySelector('#df-b1cbc4f1-9c00-4671-be9c-2736acdb4685 button');\n",
              "      quickchartButtonEl.style.display =\n",
              "        google.colab.kernel.accessAllowed ? 'block' : 'none';\n",
              "    })();\n",
              "  </script>\n",
              "</div>\n",
              "\n",
              "  <div id=\"id_e486bfa8-600b-4eaa-986b-0572fd6624da\">\n",
              "    <style>\n",
              "      .colab-df-generate {\n",
              "        background-color: #E8F0FE;\n",
              "        border: none;\n",
              "        border-radius: 50%;\n",
              "        cursor: pointer;\n",
              "        display: none;\n",
              "        fill: #1967D2;\n",
              "        height: 32px;\n",
              "        padding: 0 0 0 0;\n",
              "        width: 32px;\n",
              "      }\n",
              "\n",
              "      .colab-df-generate:hover {\n",
              "        background-color: #E2EBFA;\n",
              "        box-shadow: 0px 1px 2px rgba(60, 64, 67, 0.3), 0px 1px 3px 1px rgba(60, 64, 67, 0.15);\n",
              "        fill: #174EA6;\n",
              "      }\n",
              "\n",
              "      [theme=dark] .colab-df-generate {\n",
              "        background-color: #3B4455;\n",
              "        fill: #D2E3FC;\n",
              "      }\n",
              "\n",
              "      [theme=dark] .colab-df-generate:hover {\n",
              "        background-color: #434B5C;\n",
              "        box-shadow: 0px 1px 3px 1px rgba(0, 0, 0, 0.15);\n",
              "        filter: drop-shadow(0px 1px 2px rgba(0, 0, 0, 0.3));\n",
              "        fill: #FFFFFF;\n",
              "      }\n",
              "    </style>\n",
              "    <button class=\"colab-df-generate\" onclick=\"generateWithVariable('df')\"\n",
              "            title=\"Generate code using this dataframe.\"\n",
              "            style=\"display:none;\">\n",
              "\n",
              "  <svg xmlns=\"http://www.w3.org/2000/svg\" height=\"24px\"viewBox=\"0 0 24 24\"\n",
              "       width=\"24px\">\n",
              "    <path d=\"M7,19H8.4L18.45,9,17,7.55,7,17.6ZM5,21V16.75L18.45,3.32a2,2,0,0,1,2.83,0l1.4,1.43a1.91,1.91,0,0,1,.58,1.4,1.91,1.91,0,0,1-.58,1.4L9.25,21ZM18.45,9,17,7.55Zm-12,3A5.31,5.31,0,0,0,4.9,8.1,5.31,5.31,0,0,0,1,6.5,5.31,5.31,0,0,0,4.9,4.9,5.31,5.31,0,0,0,6.5,1,5.31,5.31,0,0,0,8.1,4.9,5.31,5.31,0,0,0,12,6.5,5.46,5.46,0,0,0,6.5,12Z\"/>\n",
              "  </svg>\n",
              "    </button>\n",
              "    <script>\n",
              "      (() => {\n",
              "      const buttonEl =\n",
              "        document.querySelector('#id_e486bfa8-600b-4eaa-986b-0572fd6624da button.colab-df-generate');\n",
              "      buttonEl.style.display =\n",
              "        google.colab.kernel.accessAllowed ? 'block' : 'none';\n",
              "\n",
              "      buttonEl.onclick = () => {\n",
              "        google.colab.notebook.generateWithVariable('df');\n",
              "      }\n",
              "      })();\n",
              "    </script>\n",
              "  </div>\n",
              "\n",
              "    </div>\n",
              "  </div>\n"
            ],
            "application/vnd.google.colaboratory.intrinsic+json": {
              "type": "dataframe",
              "variable_name": "df"
            }
          },
          "metadata": {},
          "execution_count": 49
        }
      ]
    },
    {
      "cell_type": "markdown",
      "source": [
        "## Vander Sentiment analyzer"
      ],
      "metadata": {
        "id": "Ve0ldYNV3htE"
      }
    },
    {
      "cell_type": "code",
      "source": [
        "# Initialize VADER sentiment analyzer\n",
        "analyzer = SentimentIntensityAnalyzer()\n",
        "\n",
        "# Function to analyze the sentiment of a review\n",
        "def analyze_sentiment(review):\n",
        "    scores = analyzer.polarity_scores(str(review))\n",
        "    if scores['compound'] >= 0.05:\n",
        "        return 'Positive'\n",
        "    elif scores['compound'] <= -0.05:\n",
        "        return 'Negative'\n",
        "    else:\n",
        "        return 'Neutral'\n",
        "\n",
        "# Analyze sentiment for each review\n",
        "df['Sentiment'] = df['Review'].apply(analyze_sentiment)"
      ],
      "metadata": {
        "id": "qz59V9eC3pUp"
      },
      "execution_count": null,
      "outputs": []
    },
    {
      "cell_type": "markdown",
      "source": [
        "## Visualization of sentiments"
      ],
      "metadata": {
        "id": "tlPdi_dj3yA5"
      }
    },
    {
      "cell_type": "code",
      "source": [
        "# Analyze sentiment for each review\n",
        "df['Sentiment'] = df['Review'].apply(analyze_sentiment)\n",
        "\n",
        "# Display the first few rows with sentiment labels\n",
        "print(df[['Review', 'Sentiment']].head(10))\n",
        "\n",
        "# Calculate overall sentiment distribution\n",
        "sentiment_counts = df['Sentiment'].value_counts()\n",
        "print(\"\\nOverall Sentiment Distribution:\")\n",
        "sentiment_counts"
      ],
      "metadata": {
        "colab": {
          "base_uri": "https://localhost:8080/",
          "height": 435
        },
        "id": "_QulX_Sh36TT",
        "outputId": "cf2579d4-70b5-4ca7-f660-edd04e14f3dc"
      },
      "execution_count": null,
      "outputs": [
        {
          "output_type": "stream",
          "name": "stdout",
          "text": [
            "               Review Sentiment\n",
            "0               Super  Positive\n",
            "1             Awesome  Positive\n",
            "2                Fair  Positive\n",
            "3     Useless product  Negative\n",
            "4                Fair  Positive\n",
            "5             Awesome  Positive\n",
            "6  Highly recommended  Positive\n",
            "7                Nice  Positive\n",
            "8      Unsatisfactory   Neutral\n",
            "9     Worth the money  Positive\n",
            "\n",
            "Overall Sentiment Distribution:\n"
          ]
        },
        {
          "output_type": "execute_result",
          "data": {
            "text/plain": [
              "Sentiment\n",
              "Positive    114323\n",
              "Neutral      36367\n",
              "Negative     14314\n",
              "Name: count, dtype: int64"
            ],
            "text/html": [
              "<div>\n",
              "<style scoped>\n",
              "    .dataframe tbody tr th:only-of-type {\n",
              "        vertical-align: middle;\n",
              "    }\n",
              "\n",
              "    .dataframe tbody tr th {\n",
              "        vertical-align: top;\n",
              "    }\n",
              "\n",
              "    .dataframe thead th {\n",
              "        text-align: right;\n",
              "    }\n",
              "</style>\n",
              "<table border=\"1\" class=\"dataframe\">\n",
              "  <thead>\n",
              "    <tr style=\"text-align: right;\">\n",
              "      <th></th>\n",
              "      <th>count</th>\n",
              "    </tr>\n",
              "    <tr>\n",
              "      <th>Sentiment</th>\n",
              "      <th></th>\n",
              "    </tr>\n",
              "  </thead>\n",
              "  <tbody>\n",
              "    <tr>\n",
              "      <th>Positive</th>\n",
              "      <td>114323</td>\n",
              "    </tr>\n",
              "    <tr>\n",
              "      <th>Neutral</th>\n",
              "      <td>36367</td>\n",
              "    </tr>\n",
              "    <tr>\n",
              "      <th>Negative</th>\n",
              "      <td>14314</td>\n",
              "    </tr>\n",
              "  </tbody>\n",
              "</table>\n",
              "</div><br><label><b>dtype:</b> int64</label>"
            ]
          },
          "metadata": {},
          "execution_count": 51
        }
      ]
    },
    {
      "cell_type": "markdown",
      "source": [
        "### Visualization using Pie Chart"
      ],
      "metadata": {
        "id": "C5U-W9Kk4PNh"
      }
    },
    {
      "cell_type": "code",
      "source": [
        "# Calculate overall sentiment distribution\n",
        "sentiment_counts = df['Sentiment'].value_counts()\n",
        "\n",
        "# Create a pie chart\n",
        "plt.figure(figsize=(8, 8))\n",
        "plt.pie(sentiment_counts, labels=sentiment_counts.index, autopct='%1.1f%%', startangle=90)\n",
        "plt.title('Sentiment Distribution of Product Reviews')\n",
        "plt.axis('equal')\n",
        "plt.show()"
      ],
      "metadata": {
        "colab": {
          "base_uri": "https://localhost:8080/",
          "height": 675
        },
        "id": "paIJcVVj4Uvh",
        "outputId": "67453c48-8ac6-4750-a2ba-ebed7c34d663"
      },
      "execution_count": null,
      "outputs": [
        {
          "output_type": "display_data",
          "data": {
            "text/plain": [
              "<Figure size 800x800 with 1 Axes>"
            ],
            "image/png": "[encoded data removed]"
          },
          "metadata": {}
        }
      ]
    },
    {
      "cell_type": "markdown",
      "source": [
        "## Export Result to Excel"
      ],
      "metadata": {
        "id": "C6lt5IXF42xp"
      }
    },
    {
      "cell_type": "code",
      "source": [
        "# Export the cleaned data and sentiment analysis results to Excel\n",
        "df.to_csv('sentiment_analysis_results.csv', index= False)"
      ],
      "metadata": {
        "id": "QYR6Q5gz418R"
      },
      "execution_count": null,
      "outputs": []
    },
    {
      "cell_type": "markdown",
      "source": [
        "## Result"
      ],
      "metadata": {
        "id": "ir2FFkkHEKxk"
      }
    },
    {
      "cell_type": "markdown",
      "source": [
        "After performing sentiment analysis on the customer reviews, we are able to:\n",
        "- Categorize reviews into positive, negative, and neutral.\n",
        "- Visualize the sentiment distribution to understand customer preferences.\n",
        "- Use insights from positive and negative reviews to improve products and customer service."
      ],
      "metadata": {
        "id": "IsrZEHCOERaR"
      }
    },
    {
      "cell_type": "markdown",
      "source": [
        "## Challenges & Solutions"
      ],
      "metadata": {
        "id": "f89fD7aeEWHH"
      }
    },
    {
      "cell_type": "markdown",
      "source": [
        "### Challenges:\n",
        "1. **Data Quality**: Customer reviews can contain slang, misspellings, or emojis, which may affect sentiment analysis accuracy. The text cleaning process helps mitigate this.\n",
        "2. **Subtle Sentiments**: Sometimes, customer reviews may be subtle or sarcastic, and tools like VADER might not always detect them. For more accurate results, a machine learning-based approach can be considered.\n",
        "\n",
        "### Solution:\n",
        "1. **Preprocessing**: Clean the text thoroughly by removing unnecessary characters, stop words, and special symbols.\n",
        "2. **Regular Sentiment Analysi**s: Conduct sentiment analysis regularly to keep track of customer feedback and product performance.\n",
        "3. **Actionable Insights**: Use the analysis results to highlight what customers love and where they want improvements, guiding product development or marketing strategies."
      ],
      "metadata": {
        "id": "JToS8jPCGReu"
      }
    },
    {
      "cell_type": "markdown",
      "source": [
        "## Conclusion"
      ],
      "metadata": {
        "id": "uqLZuGG-Ge8j"
      }
    },
    {
      "cell_type": "markdown",
      "source": [
        "This **Sentiment Analysis of Customer Reviews** project allows you to extract valuable insights from customer feedback, helping improve products and services. By using Python for text analysis and Excel for visualization, you can easily interpret large volumes of customer reviews and drive data-backed decisions."
      ],
      "metadata": {
        "id": "17pLQip5GhR5"
      }
    }
  ]
}